{
 "cells": [
  {
   "cell_type": "code",
   "execution_count": 1,
   "metadata": {},
   "outputs": [],
   "source": [
    "import pandas as pd\n",
    "factors = pd.read_csv('your csv1')\n",
    "patient_info = pd.read_csv('your csv2')\n",
    "merged_df1 = pd.merge(factors, patient_info, left_on='patient_about_id', right_on='patient_id', how='inner')\n",
    "user_info = pd.read_csv('your csv3')\n",
    "merged_df2 = pd.merge(merged_df1, user_info, left_on='user_input_id', right_on='user_id', how='inner')\n",
    "notes = pd.read_csv('your csv4')\n",
    "merged_df3 = pd.merge(merged_df2, notes, left_on='patient_id', right_on='patient_id', how='inner')\n",
    "df = merged_df3.convert_dtypes()"
   ]
  },
  {
   "cell_type": "code",
   "execution_count": 2,
   "metadata": {},
   "outputs": [],
   "source": [
    "final_df = df.drop(['external_id', 'id_x', 'symptom_id', 'logged_at_y', 'patient_about_id', 'first_name_y', 'last_name_y', 'date_of_birth_y', 'id_y', 'veteran', 'ethnicity', 'race', 'severity', 'description'], axis = 1)\n",
    "final_df.dropna(inplace=True)"
   ]
  },
  {
   "cell_type": "code",
   "execution_count": 3,
   "metadata": {},
   "outputs": [
    {
     "data": {
      "text/plain": [
       "user_input_id            string[python]\n",
       "symptom_date             string[python]\n",
       "had_symptom                     boolean\n",
       "factor                   string[python]\n",
       "category                 string[python]\n",
       "subcategory              string[python]\n",
       "logged_at_x              string[python]\n",
       "patient_id               string[python]\n",
       "first_name_x             string[python]\n",
       "last_name_x              string[python]\n",
       "date_of_birth_x          string[python]\n",
       "gender                   string[python]\n",
       "patient_type             string[python]\n",
       "user_id                  string[python]\n",
       "phone_number             string[python]\n",
       "postal_code              string[python]\n",
       "user_type                string[python]\n",
       "registered_at            string[python]\n",
       "country                  string[python]\n",
       "referral_group           string[python]\n",
       "city                     string[python]\n",
       "state                    string[python]\n",
       "note                     string[python]\n",
       "additional_notes_date    string[python]\n",
       "dtype: object"
      ]
     },
     "execution_count": 3,
     "metadata": {},
     "output_type": "execute_result"
    }
   ],
   "source": [
    "# final_df.dtypes"
   ]
  },
  {
   "cell_type": "code",
   "execution_count": null,
   "metadata": {},
   "outputs": [],
   "source": [
    "search_result = final_df.loc[final_df['last_name_x'] == 'Smith', ['factor', 'category', 'first_name_x', 'last_name_x']].drop_duplicates()\n",
    "\n",
    "print(search_result)"
   ]
  },
  {
   "cell_type": "code",
   "execution_count": null,
   "metadata": {},
   "outputs": [],
   "source": [
    "search_result = final_df[final_df['last_name_x'] == 'Smith']\n",
    "print(search_result)"
   ]
  },
  {
   "cell_type": "code",
   "execution_count": 6,
   "metadata": {},
   "outputs": [],
   "source": [
    "import openai\n",
    "import panel as pn\n",
    "import os\n",
    "openai.api_key = \"your key here\"\n"
   ]
  },
  {
   "cell_type": "code",
   "execution_count": 7,
   "metadata": {},
   "outputs": [],
   "source": [
    "def get_completion(prompt, model=\"gpt-3.5-turbo-16k\"):\n",
    "    messages = [{\"role\": \"user\", \"content\": prompt}]\n",
    "    response = openai.ChatCompletion.create(\n",
    "        model=model,\n",
    "        messages=messages,\n",
    "        temperature=0, # this is the degree of randomness of the model's output\n",
    "    )\n",
    "    return response.choices[0].message[\"content\"]\n",
    "\n",
    "def get_completion_from_messages(messages, model=\"gpt-3.5-turbo-16k\", temperature=0):\n",
    "    response = openai.ChatCompletion.create(\n",
    "        model=model,\n",
    "        messages=messages,\n",
    "        temperature=temperature, # this is the degree of randomness of the model's output\n",
    "    )\n",
    "#     print(str(response.choices[0].message))\n",
    "    return response.choices[0].message[\"content\"]"
   ]
  },
  {
   "cell_type": "code",
   "execution_count": 8,
   "metadata": {},
   "outputs": [],
   "source": [
    "def collect_messages(_):\n",
    "    prompt = inp.value_input\n",
    "    inp.value = ''\n",
    "    context.append({'role':'user', 'content':f\"{prompt}\"})\n",
    "    response = get_completion_from_messages(context) \n",
    "    context.append({'role':'assistant', 'content':f\"{response}\"})\n",
    "    panels.append(\n",
    "        pn.Row('User:', pn.pane.Markdown(prompt, width=1600)))\n",
    "    panels.append(\n",
    "        pn.Row('Assistant:', pn.pane.Markdown(response, width=1600, styles={'background-color': '#F6F6F6'})))\n",
    " \n",
    "    return pn.Column(*panels)\n"
   ]
  },
  {
   "cell_type": "code",
   "execution_count": 9,
   "metadata": {},
   "outputs": [],
   "source": [
    "def get_dataframe(first_name, last_name):\n",
    "    return final_df[(final_df['last_name_x'] == last_name) & (final_df['first_name_x'] == first_name)]"
   ]
  },
  {
   "cell_type": "code",
   "execution_count": null,
   "metadata": {},
   "outputs": [],
   "source": [
    "import panel as pn\n",
    "import jupyter_bokeh\n",
    "\n",
    "\n",
    "# Main Cell\n",
    "# Prompt the user to enter a value\n",
    "first_name = input(\"Please enter your first name: \")\n",
    "last_name = input(\"Please enter your last name: \")\n",
    "# Print the user input\n",
    "print(\"You entered:\", first_name, last_name)\n",
    "# print(get_dataframe(first_name, last_name))\n",
    "info = get_dataframe(first_name, last_name)\n",
    "\n",
    "pn.extension()\n",
    "\n",
    "panels = [] # collect display \n",
    "\n",
    "context = [ {'role':'system', 'content': f\"\"\"\n",
    "You are PoPer, an automated service bot to communicate with your patients for a TBI (Traumatic Brain Injuries) patients platform. \\\n",
    "You first greet the patient, {first_name} {last_name}, by the first name. You shall be warm, friendly, and nice. \\\n",
    "You shall always try to provide additional advices based on your own understanding.\\\n",
    "Here are the information of this patient {info.head(n=70).to_string()}\n",
    "\"\"\"\n",
    "} ]  # accumulate messages\n",
    "  \n",
    "print(context)\n",
    "\n",
    "inp = pn.widgets.TextInput(value=\"Hi\", placeholder='Enter text here…')\n",
    "button_conversation = pn.widgets.Button(name=\"Continue!\")\n",
    "\n",
    "interactive_conversation = pn.bind(collect_messages, button_conversation)\n",
    "\n",
    "dashboard = pn.Column(\n",
    "    inp,\n",
    "    pn.Row(button_conversation),\n",
    "    pn.panel(interactive_conversation, loading_indicator=True, height=1300),\n",
    ")\n",
    "\n",
    "dashboard"
   ]
  }
 ],
 "metadata": {
  "kernelspec": {
   "display_name": "Python 3",
   "language": "python",
   "name": "python3"
  },
  "language_info": {
   "codemirror_mode": {
    "name": "ipython",
    "version": 3
   },
   "file_extension": ".py",
   "mimetype": "text/x-python",
   "name": "python",
   "nbconvert_exporter": "python",
   "pygments_lexer": "ipython3",
   "version": "3.11.3"
  },
  "orig_nbformat": 4
 },
 "nbformat": 4,
 "nbformat_minor": 2
}
